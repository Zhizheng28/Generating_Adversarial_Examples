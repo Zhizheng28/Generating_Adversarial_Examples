{
 "cells": [
  {
   "cell_type": "markdown",
   "id": "975eca6b",
   "metadata": {},
   "source": [
    "## Generating Adversarial Examples\n",
    "Zhizheng Wang"
   ]
  },
  {
   "cell_type": "code",
   "execution_count": 3,
   "id": "7d57fd7e",
   "metadata": {},
   "outputs": [],
   "source": [
    "import numpy as np\n",
    "import pickle\n",
    "from util import * "
   ]
  },
  {
   "cell_type": "code",
   "execution_count": 4,
   "id": "8d774879",
   "metadata": {},
   "outputs": [],
   "source": [
    "def generate_image_for_class(model, target_class):\n",
    "    \"\"\"\n",
    "    This function Generates a random image that will be classified\n",
    "    as class target_class by the neural network.\n",
    "    \n",
    "    Parameters:\n",
    "    ------------------------------------\n",
    "    model: neural network model object\n",
    "    target_class: integer, target_class to which the network classifies the image\n",
    "    alpha: each pixel in the image is initialized by sampling from\n",
    "    uniform distribution over (-alpha, alpha)\n",
    "    \"\"\"\n",
    "    \n",
    "    alpha = 0.1\n",
    "    lr = 0.1 #learning rate\n",
    "    num_iterations=1000 #num of iterations\n",
    "    \n",
    "    x_adv = np.random.uniform(-alpha, alpha, size=(1,28*28))\n",
    "    \n",
    "    for c in range(num_iterations):\n",
    "        y_probs = model.forward(x_adv)\n",
    "        predicted_label = np.argmax(y_probs, axis=1)\n",
    "        gradient = model.grad_wrt_input(x_adv, np.array([target_class]))[0]\n",
    "        x_adv = x_adv - lr * gradient\n",
    "        if predicted_label[0] == target_class: # Break when target_class is the same as predicted_class\n",
    "            break      \n",
    "    \n",
    "    x_adv = x_adv.reshape(28,28)\n",
    "    label = predicted_label\n",
    "    filename = f'targeted_random_img_class_{target_class}.png'\n",
    "    #visualize_example param: (img, y_probs, b_unnormalize=T or F, label, filename)    \n",
    "    visualize_example(x_adv, y_probs[0], True, label, filename)\n",
    "    \n",
    "    return x_adv\n",
    "\n",
    "def main():\n",
    "    # Load the trained model\n",
    "    model = None\n",
    "    with open('trained_model.pkl', 'rb') as fid:\n",
    "        model = pickle.load(fid)\n",
    "    # now you can use the model class\n",
    "    for target_class in range(10): # 0 - 10\n",
    "        x_adv = generate_image_for_class(model, target_class)\n",
    "        \n",
    "if __name__ == \"__main__\":\n",
    "    main()    "
   ]
  }
 ],
 "metadata": {
  "kernelspec": {
   "display_name": "Python 3 (ipykernel)",
   "language": "python",
   "name": "python3"
  },
  "language_info": {
   "codemirror_mode": {
    "name": "ipython",
    "version": 3
   },
   "file_extension": ".py",
   "mimetype": "text/x-python",
   "name": "python",
   "nbconvert_exporter": "python",
   "pygments_lexer": "ipython3",
   "version": "3.11.4"
  }
 },
 "nbformat": 4,
 "nbformat_minor": 5
}
