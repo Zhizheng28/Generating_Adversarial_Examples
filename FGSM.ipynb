{
 "cells": [
  {
   "cell_type": "markdown",
   "id": "962e19b9",
   "metadata": {},
   "source": [
    "## Generating Adversarial Examples: untargeted attack using the Fast Gradient Sign Method (FGSM)\n",
    "\n",
    "Zhizheng Wang"
   ]
  },
  {
   "cell_type": "code",
   "execution_count": 1,
   "id": "35191fcb",
   "metadata": {},
   "outputs": [],
   "source": [
    "import numpy as np\n",
    "import pickle\n",
    "from util import * "
   ]
  },
  {
   "cell_type": "code",
   "execution_count": 3,
   "id": "79e9ed01",
   "metadata": {},
   "outputs": [],
   "source": [
    "def fgsm(x_test, y_test, model, eps=0.05):\n",
    "    \n",
    "    x = x_test.flatten().copy()\n",
    "    \n",
    "    while True: \n",
    "        y_probs = model.forward(x)\n",
    "        predicted_label = np.argmax(y_probs)\n",
    "        gradient = model.grad_wrt_input(x_test, np.array([y_test]))\n",
    "        x = x + eps * np.sign(gradient)\n",
    "        if predicted_label != y_test: # Break when misclassified\n",
    "            break\n",
    "    filename = \"FGSM_untargeted.png\"\n",
    "    label = predicted_label\n",
    "    #visualize_example param: (img, y_probs, b_unnormalize=T or F, label, filename)    \n",
    "    visualize_example(x, y_probs, True, label, filename)\n",
    "    \n",
    "    return x\n",
    "    \n",
    "def main():\n",
    "    \n",
    "    # load datasets\n",
    "    mnist = None\n",
    "    with open('mnist.pkl', 'rb') as fid:\n",
    "        mnist = pickle.load(fid)\n",
    "    # load model\n",
    "    model = None\n",
    "    with open('trained_model.pkl', 'rb') as fid:\n",
    "        model = pickle.load(fid)\n",
    "    # dataset is a dictionary containing the training and test sets. \n",
    "    \n",
    "    x_test = mnist[\"test_images\"][0]\n",
    "    y_test = mnist[\"test_labels\"][0] # 7\n",
    "    x_adv = fgsm(x_test, y_test, model)\n",
    "    \n",
    "    # visualize x_adv\n",
    "        \n",
    "if __name__ == \"__main__\":\n",
    "    main()"
   ]
  }
 ],
 "metadata": {
  "kernelspec": {
   "display_name": "Python 3 (ipykernel)",
   "language": "python",
   "name": "python3"
  },
  "language_info": {
   "codemirror_mode": {
    "name": "ipython",
    "version": 3
   },
   "file_extension": ".py",
   "mimetype": "text/x-python",
   "name": "python",
   "nbconvert_exporter": "python",
   "pygments_lexer": "ipython3",
   "version": "3.11.4"
  }
 },
 "nbformat": 4,
 "nbformat_minor": 5
}
